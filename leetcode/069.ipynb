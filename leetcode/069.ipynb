{
 "cells": [
  {
   "cell_type": "markdown",
   "metadata": {},
   "source": [
    "给定一个排序的整数数组 nums 和一个整数目标值 target ，请在数组中找到 target ，并返回其下标。如果目标值不存在于数组中，返回它将会被按顺序插入的位置。\n",
    "\n",
    "请必须使用时间复杂度为 O(log n) 的算法。\n",
    "\n"
   ]
  },
  {
   "cell_type": "code",
   "execution_count": 2,
   "metadata": {},
   "outputs": [],
   "source": [
    "\n",
    "def binary_search(lst,element):\n",
    "    # 首先获取中间的索引\n",
    "    mid_index = len(lst)//2\n",
    "    # 判断需要查找的元素是否为中间的那个元素\n",
    "    if element == lst[mid_index]:\n",
    "        # 如果是则返回要查找的元素及其对应的索引\n",
    "        return '找到%s,索引是%s'%(element,mid_index)\n",
    "    # 如果需要查找的元素小于中间元素对应的值，则执行下面代码\n",
    "    elif element>lst[mid_index]:\n",
    "        # 将最高索引设置成列表的长度（因为列表中元素切片取前不取后）\n",
    "        high_index = len(lst)\n",
    "        # 最低索引设置成中间元素索引+1\n",
    "        low_index = mid_index+1\n",
    "        # 递归调用原函数\n",
    "        return  binary_search(lst[low_index:high_index],element)\n",
    "    # 如果需要查找的元素大于中间元素对应的值，则执行下面代码\n",
    "    else:\n",
    "        # 最高索引设置成中间元素\n",
    "        high_index = mid_index\n",
    "        # 最低索引设置成0\n",
    "        low_index = 0\n",
    "        # 递归调用原函数\n",
    "        return  binary_search(lst[low_index:high_index],element)"
   ]
  },
  {
   "cell_type": "code",
   "execution_count": 3,
   "metadata": {},
   "outputs": [
    {
     "data": {
      "text/plain": [
       "[1]"
      ]
     },
     "execution_count": 3,
     "metadata": {},
     "output_type": "execute_result"
    }
   ],
   "source": [
    "a[:1]"
   ]
  },
  {
   "cell_type": "code",
   "execution_count": 5,
   "metadata": {},
   "outputs": [
    {
     "data": {
      "text/plain": [
       "'找到4,索引是0'"
      ]
     },
     "execution_count": 5,
     "metadata": {},
     "output_type": "execute_result"
    }
   ],
   "source": [
    "a = [1,3,4]\n",
    "binary_search(a,4)"
   ]
  },
  {
   "cell_type": "code",
   "execution_count": null,
   "metadata": {},
   "outputs": [],
   "source": []
  },
  {
   "cell_type": "code",
   "execution_count": null,
   "metadata": {},
   "outputs": [],
   "source": []
  }
 ],
 "metadata": {
  "kernelspec": {
   "display_name": "pytorchpy3.8",
   "language": "python",
   "name": "python3"
  },
  "language_info": {
   "codemirror_mode": {
    "name": "ipython",
    "version": 3
   },
   "file_extension": ".py",
   "mimetype": "text/x-python",
   "name": "python",
   "nbconvert_exporter": "python",
   "pygments_lexer": "ipython3",
   "version": "3.9.12"
  }
 },
 "nbformat": 4,
 "nbformat_minor": 2
}
