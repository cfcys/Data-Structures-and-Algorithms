{
 "cells": [
  {
   "cell_type": "markdown",
   "metadata": {},
   "source": [
    "## 1408. 数组中的字符串匹配\n",
    "\n",
    "给你一个字符串数组 `words` ，数组中的每个字符串都可以看作是一个单词。请你按任意顺序返回`words`中是其他单词的子字符串的所有单词。\n",
    "\n",
    "如果你可以删除 words[j] 最左侧和/或最右侧的若干字符得到 words[i] ，那么字符串 words[i] 就是 words[j] 的一个子字符串。"
   ]
  },
  {
   "cell_type": "code",
   "execution_count": 4,
   "metadata": {},
   "outputs": [],
   "source": [
    "# 暴力解法，与字符串匹配无关\n",
    "class Solution:\n",
    "    def stringMatching(self, words: str) -> str:\n",
    "        res=[]\n",
    "        for i in range(0,len(words)):\n",
    "            for j in range(0,len(words)):\n",
    "                if i==j:\n",
    "                    continue\n",
    "                if words[i] in words[j]:\n",
    "                    res.append(words[i])\n",
    "                    break\n",
    "\n",
    "        return res"
   ]
  },
  {
   "cell_type": "code",
   "execution_count": null,
   "metadata": {},
   "outputs": [],
   "source": [
    "# 仍然是暴力解法（使用python脑子要灵光一点\n",
    "class Solution:\n",
    "    def stringMatching(self, words: str) -> str:\n",
    "        res=[]\n",
    "        for i in words:\n",
    "            for j in words:\n",
    "                if i!=j and i in j:\n",
    "                    res.append(i)\n",
    "                    break\n",
    "        return res"
   ]
  }
 ],
 "metadata": {
  "kernelspec": {
   "display_name": "pytorch",
   "language": "python",
   "name": "python3"
  },
  "language_info": {
   "codemirror_mode": {
    "name": "ipython",
    "version": 3
   },
   "file_extension": ".py",
   "mimetype": "text/x-python",
   "name": "python",
   "nbconvert_exporter": "python",
   "pygments_lexer": "ipython3",
   "version": "3.9.12"
  }
 },
 "nbformat": 4,
 "nbformat_minor": 2
}
