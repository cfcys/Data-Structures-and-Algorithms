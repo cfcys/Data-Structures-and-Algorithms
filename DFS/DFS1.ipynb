{
 "cells": [
  {
   "cell_type": "code",
   "execution_count": 1,
   "metadata": {},
   "outputs": [],
   "source": [
    "def initial_graph(n, edges):\n",
    "    dict_graph = {}\n",
    "\n",
    "    for i in range(n):\n",
    "        dict_graph[i] = []\n",
    "        \n",
    "    num_e = len(edges)\n",
    "    for i in range(num_e):\n",
    "        u = edges[i][0]\n",
    "        v = edges[i][1]\n",
    "        dict_graph[u].append(v)\n",
    "        dict_graph[v].append(u)\n",
    "\n",
    "    return dict_graph"
   ]
  },
  {
   "cell_type": "code",
   "execution_count": 8,
   "metadata": {},
   "outputs": [
    {
     "data": {
      "text/plain": [
       "1"
      ]
     },
     "execution_count": 8,
     "metadata": {},
     "output_type": "execute_result"
    }
   ],
   "source": [
    "node = 1\n",
    "# 1.使用queue\n",
    "from queue import Queue\n",
    "q = Queue() # 定义，为什么是这样涉及python的设计，不是很懂\n",
    "q.put(node) # 放入\n",
    "q.get() # 出队\n"
   ]
  },
  {
   "cell_type": "code",
   "execution_count": 6,
   "metadata": {},
   "outputs": [
    {
     "data": {
      "text/plain": [
       "1"
      ]
     },
     "execution_count": 6,
     "metadata": {},
     "output_type": "execute_result"
    }
   ],
   "source": [
    "# 2.使用deque\n",
    "import collections\n",
    "q = collections.deque() # 双向队列\n",
    "q.append(1) # 入队\n",
    "q.popleft() # 出队"
   ]
  },
  {
   "cell_type": "code",
   "execution_count": null,
   "metadata": {},
   "outputs": [],
   "source": []
  },
  {
   "cell_type": "code",
   "execution_count": 9,
   "metadata": {},
   "outputs": [],
   "source": [
    "start_node = 1\n",
    "# 使用Queue()定义\n",
    "q.put(start_node)\n",
    "# 为防止无向图中回溯，使用set阻断\n",
    "hash_set = set()\n",
    "hash_set.add(start_node)"
   ]
  },
  {
   "cell_type": "code",
   "execution_count": 10,
   "metadata": {},
   "outputs": [],
   "source": [
    "def dfs(nums, path, used, results):\n",
    "    if len(path) == r:  # 如果当前排列长度已达到r，将其加入结果集\n",
    "        results.append(path[:])  # 使用path[:]来复制当前路径\n",
    "        return\n",
    "    for num in nums:\n",
    "        if not used[num]:  # 如果这个数字还没有被使用\n",
    "            used[num] = True  # 标记为已使用\n",
    "            path.append(num)  # 将数字加入当前路径\n",
    "            dfs(nums, path, used, results)  # 递归调用\n",
    "            path.pop()  # 回溯，移除最后一个元素\n",
    "            used[num] = False  # 取消标记"
   ]
  },
  {
   "cell_type": "code",
   "execution_count": 11,
   "metadata": {},
   "outputs": [],
   "source": [
    "def generate_permutations(n, r):\n",
    "    nums = list(range(1, n+1))  # 创建数字列表\n",
    "    results = []  # 存储所有排列的结果列表\n",
    "    used = [False] * (n + 1)  # 标记使用过的数字\n",
    "    dfs(nums, [], used, results)  # 开始DFS\n",
    "    for result in results:\n",
    "        print(\" \".join(map(str, result)))  # 打印每个排列\n",
    "    print(len(results))  # 打印排列总数"
   ]
  },
  {
   "cell_type": "code",
   "execution_count": 12,
   "metadata": {},
   "outputs": [
    {
     "name": "stdout",
     "output_type": "stream",
     "text": [
      "1 2 3\n",
      "1 2 4\n",
      "1 3 2\n",
      "1 3 4\n",
      "1 4 2\n",
      "1 4 3\n",
      "2 1 3\n",
      "2 1 4\n",
      "2 3 1\n",
      "2 3 4\n",
      "2 4 1\n",
      "2 4 3\n",
      "3 1 2\n",
      "3 1 4\n",
      "3 2 1\n",
      "3 2 4\n",
      "3 4 1\n",
      "3 4 2\n",
      "4 1 2\n",
      "4 1 3\n",
      "4 2 1\n",
      "4 2 3\n",
      "4 3 1\n",
      "4 3 2\n",
      "24\n"
     ]
    }
   ],
   "source": [
    "# 示例输入\n",
    "n = 4\n",
    "r = 3\n",
    "generate_permutations(n, r)"
   ]
  },
  {
   "cell_type": "code",
   "execution_count": null,
   "metadata": {},
   "outputs": [],
   "source": []
  }
 ],
 "metadata": {
  "kernelspec": {
   "display_name": "pytorchpy3.8",
   "language": "python",
   "name": "python3"
  },
  "language_info": {
   "codemirror_mode": {
    "name": "ipython",
    "version": 3
   },
   "file_extension": ".py",
   "mimetype": "text/x-python",
   "name": "python",
   "nbconvert_exporter": "python",
   "pygments_lexer": "ipython3",
   "version": "3.8.18"
  }
 },
 "nbformat": 4,
 "nbformat_minor": 2
}
