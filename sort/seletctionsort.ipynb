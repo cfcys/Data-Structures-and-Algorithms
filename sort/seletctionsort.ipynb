{
 "cells": [
  {
   "cell_type": "code",
   "execution_count": 1,
   "metadata": {},
   "outputs": [],
   "source": [
    "def selectionSort(arr):\n",
    "    for i in range(len(arr) - 1):\n",
    "        # 记录最小数的索引\n",
    "        minIndex = i\n",
    "        for j in range(i + 1, len(arr)):\n",
    "            if arr[j] < arr[minIndex]:\n",
    "                minIndex = j\n",
    "        # i 不是最小数时，将 i 和最小数进行交换\n",
    "        if i != minIndex:\n",
    "            arr[i], arr[minIndex] = arr[minIndex], arr[i]\n",
    "    return arr"
   ]
  },
  {
   "cell_type": "markdown",
   "metadata": {},
   "source": [
    "# 选择排序\n",
    "\n",
    "核心思想就是每次选择最小的元素，然后组成前面的已排序序列\n",
    "\n",
    "时间复杂度为$O(n^2)$\n",
    "\n",
    "空间复杂度为$O(1)$"
   ]
  },
  {
   "cell_type": "code",
   "execution_count": 4,
   "metadata": {},
   "outputs": [],
   "source": [
    "def selectionSortmy(arr):\n",
    "    for i in range(len(arr) - 1):\n",
    "        # 记录最小数的索引\n",
    "        minIndex = i\n",
    "        for j in range(i+1,len(arr)):\n",
    "            if arr[j] < arr[minIndex]:\n",
    "                minIndex = j\n",
    "        # i不是最小数时候，将i和最小的数进行交换\n",
    "        if i != minIndex:\n",
    "            arr[i],arr[minIndex] = arr[minIndex],arr[i]\n",
    "    return arr"
   ]
  },
  {
   "cell_type": "code",
   "execution_count": 1,
   "metadata": {},
   "outputs": [],
   "source": [
    "def selectionSortMy2(arr):\n",
    "    for i in range(len(arr) - 1):\n",
    "        # 记录下最小元素的索引：\n",
    "        minIndex = i\n",
    "        for j in range(i+1,len(arr)):\n",
    "            if arr[j] < arr[minIndex]:\n",
    "                minIndex = j    # 去寻找最小的元素的下标志\n",
    "        # i不是最小元素下标时候，将i和最小的元素的下标进行交换\n",
    "        if i != minIndex:\n",
    "            arr[i],arr[minIndex] = arr[minIndex],arr[i]\n",
    "    return arr"
   ]
  },
  {
   "cell_type": "code",
   "execution_count": 2,
   "metadata": {},
   "outputs": [],
   "source": [
    "def selectionSortMy3(arr):\n",
    "    for i in range(len(arr) - 1):\n",
    "        # 记录下最小元素的索引:\n",
    "        minIndex = i\n",
    "        for j in range(i+1,len(arr)):\n",
    "            if arr[j] < arr[minIndex]:\n",
    "                minIndex = j    # 与最小元素的下标进行交换\n",
    "        # i不是最小元素的下标时候，将i处和最小元素的下标直接进行交换\n",
    "        if i != minIndex:\n",
    "            arr[i],arr[minIndex] = arr[minIndex],arr[i]\n",
    "    return arr"
   ]
  },
  {
   "cell_type": "code",
   "execution_count": null,
   "metadata": {},
   "outputs": [],
   "source": [
    "def selectionSortMy4(arr):\n",
    "    for i in range(len(arr) - 1):\n",
    "        minIndex = i\n",
    "        for j in range(i+1,len(arr)):\n",
    "            if arr[j] < arr[minIndex]:\n",
    "                minIndex = j\n",
    "        if i != minIndex:\n",
    "            arr[i],arr[minIndex] = arr[minIndex],arr[i]\n",
    "    return arr"
   ]
  },
  {
   "cell_type": "code",
   "execution_count": 3,
   "metadata": {},
   "outputs": [],
   "source": [
    "def Selection(arr):\n",
    "    for i in range(len(arr) -  1):\n",
    "        minIndex = i\n",
    "        for j in range(i+1,len(arr)):\n",
    "            if arr[j] < arr[minIndex]:\n",
    "                minIndex = j\n",
    "        if i!= minIndex:\n",
    "            arr[i],arr[minIndex] = arr[minIndex],arr[i]\n",
    "\n",
    "    return arr"
   ]
  },
  {
   "cell_type": "code",
   "execution_count": 4,
   "metadata": {},
   "outputs": [
    {
     "data": {
      "text/plain": [
       "[1, 3, 4, 6, 7, 9]"
      ]
     },
     "execution_count": 4,
     "metadata": {},
     "output_type": "execute_result"
    }
   ],
   "source": [
    "arr = [3,1,6,4,9,7]\n",
    "Selection(arr)"
   ]
  },
  {
   "cell_type": "code",
   "execution_count": null,
   "metadata": {},
   "outputs": [],
   "source": []
  },
  {
   "cell_type": "code",
   "execution_count": null,
   "metadata": {},
   "outputs": [],
   "source": []
  },
  {
   "cell_type": "code",
   "execution_count": null,
   "metadata": {},
   "outputs": [],
   "source": []
  },
  {
   "cell_type": "code",
   "execution_count": null,
   "metadata": {},
   "outputs": [],
   "source": []
  },
  {
   "cell_type": "code",
   "execution_count": null,
   "metadata": {},
   "outputs": [],
   "source": []
  },
  {
   "cell_type": "code",
   "execution_count": null,
   "metadata": {},
   "outputs": [],
   "source": []
  },
  {
   "cell_type": "code",
   "execution_count": null,
   "metadata": {},
   "outputs": [],
   "source": []
  },
  {
   "cell_type": "code",
   "execution_count": 9,
   "metadata": {},
   "outputs": [],
   "source": [
    "def selectMy(arr):\n",
    "    for i in range(len(arr)-1):\n",
    "        minIndex = i\n",
    "        for j in range(i+1,len(arr)):\n",
    "            if arr[j] < arr[minIndex]:\n",
    "                minIndex = j\n",
    "        if minIndex != i:\n",
    "            arr[i],arr[minIndex] = arr[minIndex],arr[i]\n",
    "    return arr"
   ]
  },
  {
   "cell_type": "code",
   "execution_count": 17,
   "metadata": {},
   "outputs": [
    {
     "data": {
      "text/plain": [
       "[1, 3, 4, 6, 7, 9]"
      ]
     },
     "execution_count": 17,
     "metadata": {},
     "output_type": "execute_result"
    }
   ],
   "source": [
    "arr = [3,1,6,4,9,7]\n",
    "selectMy2(arr)"
   ]
  },
  {
   "cell_type": "code",
   "execution_count": 16,
   "metadata": {},
   "outputs": [],
   "source": [
    "def selectMy2(arr):\n",
    "    for i in range(len(arr)-1):\n",
    "        minIndex = i\n",
    "        for j in range(i+1,len(arr)):\n",
    "            if arr[j] < arr[minIndex]:\n",
    "                minIndex = j\n",
    "            if i != minIndex:\n",
    "                arr[minIndex],arr[i] = arr[i],arr[minIndex] \n",
    "    return arr"
   ]
  },
  {
   "cell_type": "code",
   "execution_count": null,
   "metadata": {},
   "outputs": [],
   "source": []
  }
 ],
 "metadata": {
  "kernelspec": {
   "display_name": "Python 3",
   "language": "python",
   "name": "python3"
  },
  "language_info": {
   "codemirror_mode": {
    "name": "ipython",
    "version": 3
   },
   "file_extension": ".py",
   "mimetype": "text/x-python",
   "name": "python",
   "nbconvert_exporter": "python",
   "pygments_lexer": "ipython3",
   "version": "3.8.18"
  }
 },
 "nbformat": 4,
 "nbformat_minor": 2
}
