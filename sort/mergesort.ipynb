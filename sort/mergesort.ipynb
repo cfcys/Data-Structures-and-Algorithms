{
 "cells": [
  {
   "cell_type": "code",
   "execution_count": 3,
   "metadata": {},
   "outputs": [],
   "source": [
    "import math"
   ]
  },
  {
   "cell_type": "code",
   "execution_count": 1,
   "metadata": {},
   "outputs": [],
   "source": [
    "def merge(left,right):\n",
    "    result = []\n",
    "    while left and right:  # 当左右两边都有元素时，比较两边的首元素，较小者加入结果数组\n",
    "        if left[0] <= right[0]:\n",
    "            result.append(left.pop(0))   # 从左数组取出元素\n",
    "        else:\n",
    "            result.append(right.pop(0))     # 从右数组取出元素\n",
    "    while left:\n",
    "        result.append(left.pop(0))\n",
    "    while right:\n",
    "        result.append(right.pop(0))\n",
    "    return result"
   ]
  },
  {
   "cell_type": "code",
   "execution_count": 2,
   "metadata": {},
   "outputs": [],
   "source": [
    "def mergeSort(arr):\n",
    "    if(len(arr)<2):   # 如果长度<2，那也就不用排序了\n",
    "        return arr\n",
    "    middle = math.floor(len(arr)/2)\n",
    "    left, right = arr[0:middle], arr[middle:]\n",
    "    return merge(mergeSort(left), mergeSort(right))"
   ]
  },
  {
   "cell_type": "markdown",
   "metadata": {},
   "source": [
    "# 归并排序\n",
    "\n",
    "归并排序的时间复杂度为$O(nlogn)$,空间复杂度为$O(n)$"
   ]
  },
  {
   "cell_type": "code",
   "execution_count": 4,
   "metadata": {},
   "outputs": [],
   "source": [
    "def mergeSortmy(arr):\n",
    "    if(len(arr) < 2):\n",
    "        return arr\n",
    "    middle = math.floor(len(arr)/2)   # math.floor向下取证\n",
    "    left,right = arr[0:middle],arr[middle:]\n",
    "    return merge(mergeSort(left),mergeSort(right))"
   ]
  },
  {
   "cell_type": "code",
   "execution_count": null,
   "metadata": {},
   "outputs": [],
   "source": [
    "def merge(left,right):\n",
    "    result = []\n",
    "    while left and right:  # 当左右两边都有元素时，比较两边的首元素，较小者加入结果数组\n",
    "        if left[0] <= right[0]:\n",
    "            result.append(left.pop(0))   # 从左数组取出元素\n",
    "        else:\n",
    "            result.append(right.pop(0))     # 从右数组取出元素\n",
    "    while left:\n",
    "        result.append(left.pop(0))\n",
    "    while right:\n",
    "        result.append(right.pop(0))\n",
    "    return result"
   ]
  }
 ],
 "metadata": {
  "kernelspec": {
   "display_name": "pytorchpy3.8",
   "language": "python",
   "name": "python3"
  },
  "language_info": {
   "codemirror_mode": {
    "name": "ipython",
    "version": 3
   },
   "file_extension": ".py",
   "mimetype": "text/x-python",
   "name": "python",
   "nbconvert_exporter": "python",
   "pygments_lexer": "ipython3",
   "version": "3.8.18"
  }
 },
 "nbformat": 4,
 "nbformat_minor": 2
}
