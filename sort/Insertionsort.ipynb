{
 "cells": [
  {
   "cell_type": "code",
   "execution_count": 1,
   "metadata": {},
   "outputs": [],
   "source": [
    "def insertionSort(arr):\n",
    "    for i in range(len(arr)):\n",
    "        preIndex = i-1  # 之前的序列的\n",
    "        current = arr[i]\n",
    "        while preIndex >= 0 and arr[preIndex] > current:\n",
    "            arr[preIndex+1] = arr[preIndex]\n",
    "            preIndex-=1\n",
    "        arr[preIndex+1] = current\n",
    "    return arr"
   ]
  },
  {
   "cell_type": "code",
   "execution_count": 9,
   "metadata": {},
   "outputs": [],
   "source": [
    "def insertionSort2(arr):\n",
    "    for i in range(len(arr)):\n",
    "        preIndex = i - 1 # 之前已经排序好的\n",
    "        current = arr[i]\n",
    "        while preIndex >= 0 and arr[preIndex] > current:\n",
    "            arr[preIndex + 1] = arr[preIndex]\n",
    "            preIndex -= 1  # 插入的位置在向前移动以为\n",
    "        arr[preIndex+1] = current\n",
    "    return arr"
   ]
  },
  {
   "cell_type": "markdown",
   "metadata": {},
   "source": [
    "# 插入排序\n",
    "\n",
    "时间复杂度为$O(n^2)$，空间复杂度为$O(1)$\n",
    "\n",
    "其思想就是每次不断选取未排序的序列中的第一个，然后将其放到已排序序列的最佳位置"
   ]
  },
  {
   "cell_type": "code",
   "execution_count": 1,
   "metadata": {},
   "outputs": [],
   "source": [
    "def insertionSort3(arr):\n",
    "    for i in range(len(arr)):\n",
    "        preIndex = i - 1  # 之前已经排序好的\n",
    "        current = arr[i]\n",
    "        while preIndex >= 0 and arr[preIndex] > current:\n",
    "            arr[preIndex + 1] = arr[preIndex]\n",
    "            preIndex -= 1   # 找一个合适的位置插入\n",
    "        arr[preIndex + 1] = current\n",
    "    return arr"
   ]
  },
  {
   "cell_type": "code",
   "execution_count": null,
   "metadata": {},
   "outputs": [],
   "source": []
  },
  {
   "cell_type": "code",
   "execution_count": null,
   "metadata": {},
   "outputs": [],
   "source": []
  },
  {
   "cell_type": "code",
   "execution_count": null,
   "metadata": {},
   "outputs": [],
   "source": []
  },
  {
   "cell_type": "code",
   "execution_count": 7,
   "metadata": {},
   "outputs": [],
   "source": [
    "def insert2(arr):\n",
    "    for i in range(len(arr)):\n",
    "        preIndex = i - 1  # 之前已经排序好的\n",
    "        current = arr[i]\n",
    "        while preIndex >= 0 and current < arr[preIndex]:\n",
    "            arr[preIndex+1] = arr[preIndex]\n",
    "            preIndex -= 1\n",
    "        arr[preIndex+1] = current\n",
    "\n",
    "    return arr\n",
    "        "
   ]
  },
  {
   "cell_type": "code",
   "execution_count": 8,
   "metadata": {},
   "outputs": [
    {
     "name": "stdout",
     "output_type": "stream",
     "text": [
      "-1\n",
      "0\n",
      "1\n",
      "2\n",
      "3\n",
      "4\n"
     ]
    },
    {
     "data": {
      "text/plain": [
       "[1, 2, 3, 9, 21, 33]"
      ]
     },
     "execution_count": 8,
     "metadata": {},
     "output_type": "execute_result"
    }
   ],
   "source": [
    "arr = [9,2,1,33,21,3]\n",
    "insertionSort2(arr)"
   ]
  },
  {
   "cell_type": "code",
   "execution_count": null,
   "metadata": {},
   "outputs": [],
   "source": []
  },
  {
   "cell_type": "code",
   "execution_count": null,
   "metadata": {},
   "outputs": [],
   "source": []
  },
  {
   "cell_type": "code",
   "execution_count": 7,
   "metadata": {},
   "outputs": [],
   "source": [
    "def Insert(arr):\n",
    "    for i in range(len(arr)):\n",
    "        preIndex = i - 1\n",
    "        current = arr[preIndex+1]\n",
    "        while preIndex >= 0 and arr[preIndex] > current:\n",
    "            arr[preIndex + 1] = arr[preIndex]\n",
    "            preIndex -= 1\n",
    "        arr[preIndex + 1] = current\n",
    "    return arr\n"
   ]
  },
  {
   "cell_type": "code",
   "execution_count": 9,
   "metadata": {},
   "outputs": [],
   "source": [
    "def Insert3(arr):\n",
    "    for i in range(len(arr)):\n",
    "        preIndex = i - 1\n",
    "        current = arr[preIndex + 1]\n",
    "        while preIndex >= 0 and arr[preIndex] > current:\n",
    "            arr[preIndex + 1] = arr[preIndex]\n",
    "            preIndex -= 1\n",
    "        arr[preIndex + 1] = current\n",
    "    return arr"
   ]
  },
  {
   "cell_type": "code",
   "execution_count": 10,
   "metadata": {},
   "outputs": [
    {
     "data": {
      "text/plain": [
       "[17, 28, 37, 82, 89]"
      ]
     },
     "execution_count": 10,
     "metadata": {},
     "output_type": "execute_result"
    }
   ],
   "source": [
    "a = [89,17,82,37,28]\n",
    "Insert3(a)"
   ]
  },
  {
   "cell_type": "code",
   "execution_count": null,
   "metadata": {},
   "outputs": [],
   "source": []
  }
 ],
 "metadata": {
  "kernelspec": {
   "display_name": "pytorchpy3.8",
   "language": "python",
   "name": "python3"
  },
  "language_info": {
   "codemirror_mode": {
    "name": "ipython",
    "version": 3
   },
   "file_extension": ".py",
   "mimetype": "text/x-python",
   "name": "python",
   "nbconvert_exporter": "python",
   "pygments_lexer": "ipython3",
   "version": "3.8.18"
  }
 },
 "nbformat": 4,
 "nbformat_minor": 2
}
