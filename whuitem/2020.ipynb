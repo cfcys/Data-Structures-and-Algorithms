{
 "cells": [
  {
   "cell_type": "code",
   "execution_count": 51,
   "metadata": {},
   "outputs": [],
   "source": [
    "with open('file/data.txt',encoding='utf-8') as f:\n",
    "    text = f.read()"
   ]
  },
  {
   "cell_type": "code",
   "execution_count": 52,
   "metadata": {},
   "outputs": [],
   "source": [
    "def extractnum(str):\n",
    "    nums = []\n",
    "    number = ''\n",
    "    for char in str:\n",
    "        if char.isdigit():\n",
    "            number += char\n",
    "        elif number:\n",
    "            nums.append(int(number))\n",
    "            number = ''\n",
    "    if number:  \n",
    "        nums.append(int(number))\n",
    "    \n",
    "    return nums"
   ]
  },
  {
   "cell_type": "code",
   "execution_count": 53,
   "metadata": {},
   "outputs": [],
   "source": [
    "nums = extractnum(text)\n",
    "nums = nums[1:]"
   ]
  },
  {
   "cell_type": "code",
   "execution_count": 55,
   "metadata": {},
   "outputs": [],
   "source": [
    "# 组成一个排列\n",
    "pos = []\n",
    "ys = []  # 用于存放纵坐标\n",
    "for i in range(len(nums)//2):\n",
    "    x,y = nums[2*i],nums[2*i+1]\n",
    "    pos.append([x,y])\n",
    "    ys.append(y)"
   ]
  },
  {
   "cell_type": "code",
   "execution_count": 65,
   "metadata": {},
   "outputs": [],
   "source": [
    "# 找出每一道墙来\n",
    "qiang = []\n",
    "for i in range(len(ys)-1):\n",
    "    qiang.append([ys[i],ys[i+1]])\n",
    "qiang.append([ys[-1],ys[0]])  # 首尾相接"
   ]
  },
  {
   "cell_type": "code",
   "execution_count": 66,
   "metadata": {},
   "outputs": [
    {
     "data": {
      "text/plain": [
       "[[1, 0], [0, 3], [3, 12], [12, 6], [6, 15], [15, 5], [5, 9], [9, 1]]"
      ]
     },
     "execution_count": 66,
     "metadata": {},
     "output_type": "execute_result"
    }
   ],
   "source": [
    "qiang"
   ]
  },
  {
   "cell_type": "code",
   "execution_count": 68,
   "metadata": {},
   "outputs": [],
   "source": [
    "# 找到最大的y坐标和最小的坐标，回答什么是有效的射击范围\n",
    "maxy = max(ys)\n",
    "miny = min(ys)\n",
    "times = []\n",
    "for i in range(miny,maxy):\n",
    "    time = 0\n",
    "    for j in range(len(qiang)):\n",
    "        if i <= qiang[j][1] & i > qiang[j][0]:\n",
    "            time += 1\n",
    "    times.append(time)"
   ]
  },
  {
   "cell_type": "code",
   "execution_count": 71,
   "metadata": {},
   "outputs": [
    {
     "data": {
      "text/plain": [
       "0"
      ]
     },
     "execution_count": 71,
     "metadata": {},
     "output_type": "execute_result"
    }
   ],
   "source": [
    "times.index(max(times))  # 输出最大的坐标\n",
    "times.index(min(times))  # 输出最小的坐标"
   ]
  },
  {
   "cell_type": "code",
   "execution_count": 73,
   "metadata": {},
   "outputs": [
    {
     "data": {
      "text/plain": [
       "[3, 5, 7]"
      ]
     },
     "execution_count": 73,
     "metadata": {},
     "output_type": "execute_result"
    }
   ],
   "source": [
    "# 输出能够击穿城墙的编号\n",
    "items = []\n",
    "for j in range(len(qiang)):\n",
    "        if 8 <= qiang[j][1] & i > qiang[j][0]:\n",
    "            items.append(j+1)\n",
    "items"
   ]
  },
  {
   "cell_type": "code",
   "execution_count": 57,
   "metadata": {},
   "outputs": [
    {
     "data": {
      "image/png": "[encoded data removed]",
      "text/plain": [
       "<Figure size 640x480 with 1 Axes>"
      ]
     },
     "metadata": {},
     "output_type": "display_data"
    }
   ],
   "source": [
    "import matplotlib.pyplot as plt\n",
    "# 创建图形和坐标轴\n",
    "fig, ax = plt.subplots()\n",
    "\n",
    "for i in range(len(pos)):\n",
    "    # 在图中绘制点\n",
    "    ax.scatter(pos[i][0], pos[i][1])\n",
    "    ax.plot(pos[i][0], pos[i][1], marker='o')\n",
    "ax.set_title('Coordinate Plot')\n",
    "ax.set_xlabel('X coordinate')\n",
    "ax.set_ylabel('Y coordinate')\n",
    "\n",
    "# 显示图形\n",
    "plt.show()"
   ]
  },
  {
   "cell_type": "code",
   "execution_count": null,
   "metadata": {},
   "outputs": [],
   "source": []
  },
  {
   "cell_type": "code",
   "execution_count": null,
   "metadata": {},
   "outputs": [],
   "source": []
  }
 ],
 "metadata": {
  "kernelspec": {
   "display_name": "pytorchpy3.8",
   "language": "python",
   "name": "python3"
  },
  "language_info": {
   "codemirror_mode": {
    "name": "ipython",
    "version": 3
   },
   "file_extension": ".py",
   "mimetype": "text/x-python",
   "name": "python",
   "nbconvert_exporter": "python",
   "pygments_lexer": "ipython3",
   "version": "3.8.18"
  }
 },
 "nbformat": 4,
 "nbformat_minor": 2
}
