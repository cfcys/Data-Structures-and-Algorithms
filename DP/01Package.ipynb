{
 "cells": [
  {
   "cell_type": "markdown",
   "metadata": {},
   "source": [
    "### 背包算法\n",
    "\n",
    "动态规划的简单应用"
   ]
  },
  {
   "cell_type": "code",
   "execution_count": null,
   "metadata": {},
   "outputs": [],
   "source": [
    "n,v = map(int,input().split())"
   ]
  },
  {
   "cell_type": "code",
   "execution_count": 15,
   "metadata": {},
   "outputs": [],
   "source": [
    "goods = []\n",
    "for i in range(n):\n",
    "    goods.append([int(i) for i in input().split()])   # 每次转化完还要强制转化为整型"
   ]
  },
  {
   "cell_type": "code",
   "execution_count": 16,
   "metadata": {},
   "outputs": [],
   "source": [
    "dp = [0 for i in range(v+1)]"
   ]
  },
  {
   "cell_type": "markdown",
   "metadata": {},
   "source": [
    "### 二维DP\n",
    "\n",
    "时间复杂度为$O(nv)$(双重循环)，空间复杂度为$O(nv)$"
   ]
  },
  {
   "cell_type": "code",
   "execution_count": 17,
   "metadata": {},
   "outputs": [
    {
     "name": "stdout",
     "output_type": "stream",
     "text": [
      "8\n"
     ]
    }
   ],
   "source": [
    "dp = [[0 for i in range(v+1)] for j in range(n+1)]\n",
    "\n",
    "for i in range(1, n+1):\n",
    "    for j in range(1,v+1):\n",
    "        dp[i][j] = dp[i-1][j]  # 第i个物品不选\n",
    "        if j>=goods[i-1][0]:# 判断背包容量是不是大于第i件物品的体积\n",
    "            # 在选和不选的情况中选出最大值\n",
    "            dp[i][j] = max(dp[i][j], dp[i-1][j-goods[i-1][0]]+goods[i-1][1])\n",
    "\n",
    "\n",
    "print(dp[-1][-1])\n",
    "\n"
   ]
  },
  {
   "cell_type": "code",
   "execution_count": 20,
   "metadata": {},
   "outputs": [],
   "source": [
    "dp = [[0 for i in range(v+1)] for j in range(n+1)]\n",
    "# dp = [[0 for i in range(v+1)] for j in range[n+1]]\n",
    "\n",
    "for i in range(1,n+1):\n",
    "    for j in range(1,v+1):\n",
    "        dp[i][j] = dp[i-1][j]   # 第i个物品不选\n",
    "        if j >= goods[i - 1][0]:   # 如果背包的容量大于第i件商品的体积\n",
    "            dp[i][j] = max(dp[i][j], dp[i-1][j-goods[i-1][0]]+goods[i-1][1])\n"
   ]
  },
  {
   "cell_type": "markdown",
   "metadata": {},
   "source": [
    "### 一维DP\n",
    "\n",
    "时间复杂度为$O(nv)$(双重循环)，空间复杂度为$O(v)$ ，只用一行来存储元素"
   ]
  },
  {
   "cell_type": "code",
   "execution_count": 21,
   "metadata": {},
   "outputs": [
    {
     "name": "stdout",
     "output_type": "stream",
     "text": [
      "8\n"
     ]
    }
   ],
   "source": [
    "dp = [0 for i in range(v+1)]\n",
    "\n",
    "for i in range(n):\n",
    "    for j in range(v,-1,-1):\n",
    "        if j >= goods[i][0]:\n",
    "            dp[j] = max(dp[j], dp[j-goods[i][0]] + goods[i][1])\n",
    "\n",
    "print(dp[-1])"
   ]
  },
  {
   "cell_type": "code",
   "execution_count": null,
   "metadata": {},
   "outputs": [],
   "source": []
  }
 ],
 "metadata": {
  "kernelspec": {
   "display_name": "pytorchpy3.8",
   "language": "python",
   "name": "python3"
  },
  "language_info": {
   "codemirror_mode": {
    "name": "ipython",
    "version": 3
   },
   "file_extension": ".py",
   "mimetype": "text/x-python",
   "name": "python",
   "nbconvert_exporter": "python",
   "pygments_lexer": "ipython3",
   "version": "3.8.18"
  }
 },
 "nbformat": 4,
 "nbformat_minor": 2
}
