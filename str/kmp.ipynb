{
 "cells": [
  {
   "cell_type": "markdown",
   "metadata": {},
   "source": [
    "- Next数组的值代表的是在匹配失败时候，子串中可以跳过匹配的字符的个数，如果是2则代表可以跳过前两个字符的比较\n",
    "\n"
   ]
  },
  {
   "cell_type": "markdown",
   "metadata": {},
   "source": [
    "### KMP算法时间复杂度分析\n",
    "\n",
    "- 我们认为子串的长度为$m$,母串的长度为$n$\n",
    "\n",
    "- 计算next数组的时间复杂度为$[m,2m]$之间\n",
    "\n",
    "- 遍历比较所用时间复杂度为$[n,2n]$之间\n",
    "\n",
    "- 因此，总的时间复杂度为$O(m+n)$"
   ]
  },
  {
   "cell_type": "code",
   "execution_count": null,
   "metadata": {},
   "outputs": [],
   "source": [
    "# 计算next数组\n",
    "def build_next(patt):\n",
    "    \"\"\"\n",
    "    计算Next数组\n",
    "    \"\"\"\n",
    "    next = [0]\n",
    "    prefix_len = 0    # 当前共同前后缀的长度\n",
    "    i = 1\n",
    "    while i < len(patt):\n",
    "        if patt[prefix_len] == patt[i]:\n",
    "            prefix_len += 1\n",
    "            next.append(prefix_len)\n",
    "            i += 1\n",
    "        else:\n",
    "            if prefix_len == 0:\n",
    "                next.append(0)\n",
    "                i += 1\n",
    "            else:\n",
    "                prefix_len = next[prefix_len - 1]\n",
    "        return next"
   ]
  },
  {
   "cell_type": "code",
   "execution_count": null,
   "metadata": {},
   "outputs": [],
   "source": [
    "def kmp_Search(string,patt):\n",
    "    netx = build_next(patt)  # 使用build_next函数进行数组的计算\n",
    "    i = 0  # 主串中的指针\n",
    "    j = 0  # 子串中的指针\n",
    "    while i < len(string):    # 这其中i永不di'jian\n",
    "        if string[i] == patt[j]:\n",
    "            i += 1\n",
    "            j += 1\n",
    "        elif j  > 0:   # 字符失配，根据next跳过字串前的一些字符\n",
    "            j = next[j-1]\n",
    "        else:\n",
    "            i += 1\n",
    "        \n",
    "        if j == len(patt):   # 匹配成功\n",
    "            return i - j"
   ]
  },
  {
   "cell_type": "code",
   "execution_count": null,
   "metadata": {},
   "outputs": [],
   "source": [
    "def get_next(str2):\n",
    "    # 首先初始化next数组\n",
    "    next = [0]\n",
    "    prefix_len = 0   # 共同前后缀的长度\n",
    "    i = 1\n",
    "    while i < len(str2):    # 在计算next数组的过程中，其实也就是使用i遍历整个数组的过程\n",
    "        if str2[prefix_len] == str2[i]:  # 如果有相同的\n",
    "            prefix_len += 1\n",
    "            next.append(prefix_len)\n",
    "            i += 1\n",
    "        else:   # 如果下一个字符不同的情况， 直接查表看看其中会不会存在更短的前后缀\n",
    "            if prefix_len == 0:\n",
    "                next.append(0)\n",
    "                i += 1\n",
    "            else:\n",
    "                prefix_len = next[prefix_len - 1]    # 查表看看存不存在更短的前后缀\n",
    "        \n",
    "        return next\n",
    "\n",
    "\n",
    "    "
   ]
  },
  {
   "cell_type": "code",
   "execution_count": null,
   "metadata": {},
   "outputs": [],
   "source": [
    "def kmp_Search2(str1,str2):\n",
    "    \"\"\"\n",
    "    str2 为子串\n",
    "    \"\"\"\n",
    "\n",
    "    next = get_next(str2)\n",
    "\n",
    "    i = 0  # 主字串的指针\n",
    "    j = 0  # 子字串的指针、\n",
    "    while i < len(str1):\n",
    "        if str1[i] == str[j]:\n",
    "            # 匹配上的情况\n",
    "            i += 1\n",
    "            j += 1\n",
    "        elif j > 0:     # 如果不相等，那么 \n",
    "            j = next[j - 1]  \n",
    "        else:\n",
    "            i += 1\n",
    "        \n",
    "        if j == len(str2):   # 在字符串2上已经走完\n",
    "            return i - j\n",
    "        \n"
   ]
  }
 ],
 "metadata": {
  "language_info": {
   "name": "python"
  }
 },
 "nbformat": 4,
 "nbformat_minor": 2
}
