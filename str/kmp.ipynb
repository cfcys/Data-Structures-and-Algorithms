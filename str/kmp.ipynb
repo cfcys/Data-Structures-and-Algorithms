{
 "cells": [
  {
   "cell_type": "markdown",
   "metadata": {},
   "source": [
    "- Next数组的值代表的是在匹配失败时候，子串中可以跳过匹配的字符的个数，如果是2则代表可以跳过前两个字符的比较\n",
    "\n"
   ]
  },
  {
   "cell_type": "code",
   "execution_count": null,
   "metadata": {},
   "outputs": [],
   "source": [
    "# 计算next数组\n",
    "def build_next(patt):\n",
    "    \"\"\"\n",
    "    计算Next数组\n",
    "    \"\"\"\n",
    "    next = [0]\n",
    "    prefix_len = 0    # 当前共同前后缀的长度\n",
    "    i = 1\n",
    "    while i < len(patt):\n",
    "        if patt[prefix_len] == patt[i]:\n",
    "            prefix_len += 1\n",
    "            next.append(prefix_len)\n",
    "            i += 1\n",
    "        else:\n",
    "            if prefix_len == 0:\n",
    "                next.append(0)\n",
    "                i += 1\n",
    "            else:\n",
    "                prefix_len = next[prefix_len - 1]\n",
    "        return next"
   ]
  },
  {
   "cell_type": "code",
   "execution_count": null,
   "metadata": {},
   "outputs": [],
   "source": [
    "def kmp_Search(string,patt):\n",
    "    netx = build_next(patt)  # 使用build_next函数进行数组的计算\n",
    "    i = 0  # 主串中的指针\n",
    "    j = 0  # 子串中的指针\n",
    "    while i < len(string):    # 这其中i永不di'jian\n",
    "        if string[i] == patt[j]:\n",
    "            i += 1\n",
    "            j += 1\n",
    "        elif j  > 0:   # 字符失配，根据next跳过字串前的一些字符\n",
    "            j = next[j-1]\n",
    "        else:\n",
    "            i += 1\n",
    "        \n",
    "        if j == len(patt):   # 匹配成功\n",
    "            return i - j"
   ]
  }
 ],
 "metadata": {
  "language_info": {
   "name": "python"
  }
 },
 "nbformat": 4,
 "nbformat_minor": 2
}
